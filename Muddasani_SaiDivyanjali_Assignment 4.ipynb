{
 "cells": [
  {
   "cell_type": "markdown",
   "metadata": {},
   "source": [
    "# Assignment 4 (60 points - Due on Monday October 25th by 7:00 pm ET)\n",
    "\n",
    "**You are free to use any IDE you like.**\n",
    "The output of this assignment for submission should be in PDF format **AND** .py or .ipynb. The name of the file should be as follows: Lastname_Firstname_Assignment4.pdf (example: Thomas_Sunela_Assignment4.pdf) ****AND**** Lastname_Firstname_Assignment4.ipynb (example: Thomas_Sunela_Assignment4.ipynb. In short, you are submitting the python notebook as well as the pdf of that notebook.\n",
    "\n",
    "Incorrect file name will cost you points! Do NOT submit HTML code file.\n",
    "Instructions for converting a Jupyter Python notebook to PDF: Go to the menu and choose, File --> Download As --> html\n",
    "\n",
    "Open that html file and print it to PDF.\n",
    "\n",
    "**Things to note:**\n",
    "* Output should be displayed for each question"
   ]
  },
  {
   "cell_type": "markdown",
   "metadata": {},
   "source": [
    "## Use the NDFootballScore file to answer the following questions. Each question answer should be displayed. The meaning of some of the variables are described below.\n",
    "* Season = the year the game was played\n",
    "* Site = Home or Away game\n",
    "* ND Coach = ND Coach's name\n",
    "* W/L/T = Win, Loss or Tie\n",
    "\n",
    "\n",
    "<h3> You may need to recode some variables like W/L/T etc. so that the results are meaningful. Ensure there are sufficient comments in what you are doing.  For example, if there are multiple things asked in one question, separate it out with adequate comments. "
   ]
  },
  {
   "cell_type": "markdown",
   "metadata": {},
   "source": [
    "### 1. Load and explore the data. Remove unnecessary columns to only retain \"Season, W/L/T, Score, and Opponent\". Rename the `W/L/T` column to `result`. Make all the column names lowercase "
   ]
  },
  {
   "cell_type": "code",
   "execution_count": 1,
   "metadata": {
    "scrolled": true
   },
   "outputs": [
    {
     "data": {
      "text/html": [
       "<div>\n",
       "<style scoped>\n",
       "    .dataframe tbody tr th:only-of-type {\n",
       "        vertical-align: middle;\n",
       "    }\n",
       "\n",
       "    .dataframe tbody tr th {\n",
       "        vertical-align: top;\n",
       "    }\n",
       "\n",
       "    .dataframe thead th {\n",
       "        text-align: right;\n",
       "    }\n",
       "</style>\n",
       "<table border=\"1\" class=\"dataframe\">\n",
       "  <thead>\n",
       "    <tr style=\"text-align: right;\">\n",
       "      <th></th>\n",
       "      <th>Season</th>\n",
       "      <th>Site</th>\n",
       "      <th>Month</th>\n",
       "      <th>Day</th>\n",
       "      <th>Year</th>\n",
       "      <th>ND Coach</th>\n",
       "      <th>W/L/T</th>\n",
       "      <th>Score</th>\n",
       "      <th>ND Rank</th>\n",
       "      <th>Opponent</th>\n",
       "      <th>Opp. Coach</th>\n",
       "      <th>Opp. Rank</th>\n",
       "    </tr>\n",
       "  </thead>\n",
       "  <tbody>\n",
       "    <tr>\n",
       "      <th>0</th>\n",
       "      <td>1887</td>\n",
       "      <td>HOME</td>\n",
       "      <td>NOV</td>\n",
       "      <td>23</td>\n",
       "      <td>1887</td>\n",
       "      <td>NO COACH</td>\n",
       "      <td>L</td>\n",
       "      <td>0-8</td>\n",
       "      <td>No Poll</td>\n",
       "      <td>MICHIGAN</td>\n",
       "      <td>NO COACH</td>\n",
       "      <td>No Poll</td>\n",
       "    </tr>\n",
       "    <tr>\n",
       "      <th>1</th>\n",
       "      <td>1888</td>\n",
       "      <td>HOME</td>\n",
       "      <td>APR</td>\n",
       "      <td>20</td>\n",
       "      <td>1888</td>\n",
       "      <td>NO COACH</td>\n",
       "      <td>L</td>\n",
       "      <td>6-26</td>\n",
       "      <td>No Poll</td>\n",
       "      <td>MICHIGAN</td>\n",
       "      <td>NO COACH</td>\n",
       "      <td>No Poll</td>\n",
       "    </tr>\n",
       "    <tr>\n",
       "      <th>2</th>\n",
       "      <td>1888</td>\n",
       "      <td>HOME</td>\n",
       "      <td>APR</td>\n",
       "      <td>21</td>\n",
       "      <td>1888</td>\n",
       "      <td>NO COACH</td>\n",
       "      <td>L</td>\n",
       "      <td>4-10</td>\n",
       "      <td>No Poll</td>\n",
       "      <td>MICHIGAN</td>\n",
       "      <td>NO COACH</td>\n",
       "      <td>No Poll</td>\n",
       "    </tr>\n",
       "    <tr>\n",
       "      <th>3</th>\n",
       "      <td>1888</td>\n",
       "      <td>HOME</td>\n",
       "      <td>DEC</td>\n",
       "      <td>6</td>\n",
       "      <td>1888</td>\n",
       "      <td>NO COACH</td>\n",
       "      <td>W</td>\n",
       "      <td>20-0</td>\n",
       "      <td>No Poll</td>\n",
       "      <td>HARVARD PREP</td>\n",
       "      <td>UNKNOWN</td>\n",
       "      <td>No Poll</td>\n",
       "    </tr>\n",
       "    <tr>\n",
       "      <th>4</th>\n",
       "      <td>1889</td>\n",
       "      <td>AWAY</td>\n",
       "      <td>NOV</td>\n",
       "      <td>14</td>\n",
       "      <td>1889</td>\n",
       "      <td>NO COACH</td>\n",
       "      <td>W</td>\n",
       "      <td>9-0</td>\n",
       "      <td>No Poll</td>\n",
       "      <td>NORTHWESTERN</td>\n",
       "      <td>NO COACH</td>\n",
       "      <td>No Poll</td>\n",
       "    </tr>\n",
       "    <tr>\n",
       "      <th>...</th>\n",
       "      <td>...</td>\n",
       "      <td>...</td>\n",
       "      <td>...</td>\n",
       "      <td>...</td>\n",
       "      <td>...</td>\n",
       "      <td>...</td>\n",
       "      <td>...</td>\n",
       "      <td>...</td>\n",
       "      <td>...</td>\n",
       "      <td>...</td>\n",
       "      <td>...</td>\n",
       "      <td>...</td>\n",
       "    </tr>\n",
       "    <tr>\n",
       "      <th>1257</th>\n",
       "      <td>2016</td>\n",
       "      <td>HOME</td>\n",
       "      <td>NOV</td>\n",
       "      <td>19</td>\n",
       "      <td>2016</td>\n",
       "      <td>KELLY</td>\n",
       "      <td>L</td>\n",
       "      <td>31-34</td>\n",
       "      <td>Not Ranked</td>\n",
       "      <td>VIRGINIA TECH</td>\n",
       "      <td>JUSTIN FUENTE</td>\n",
       "      <td>Not Ranked</td>\n",
       "    </tr>\n",
       "    <tr>\n",
       "      <th>1258</th>\n",
       "      <td>2016</td>\n",
       "      <td>AWAY</td>\n",
       "      <td>NOV</td>\n",
       "      <td>26</td>\n",
       "      <td>2016</td>\n",
       "      <td>KELLY</td>\n",
       "      <td>L</td>\n",
       "      <td>27-45</td>\n",
       "      <td>Not Ranked</td>\n",
       "      <td>SOUTHERN CAL</td>\n",
       "      <td>CLAY HELTON</td>\n",
       "      <td>12</td>\n",
       "    </tr>\n",
       "    <tr>\n",
       "      <th>1259</th>\n",
       "      <td>2017</td>\n",
       "      <td>HOME</td>\n",
       "      <td>SEP</td>\n",
       "      <td>2</td>\n",
       "      <td>2017</td>\n",
       "      <td>KELLY</td>\n",
       "      <td>W</td>\n",
       "      <td>49-16</td>\n",
       "      <td>Not Ranked</td>\n",
       "      <td>TEMPLE</td>\n",
       "      <td>GEOFF COLLINS</td>\n",
       "      <td>Not Ranked</td>\n",
       "    </tr>\n",
       "    <tr>\n",
       "      <th>1260</th>\n",
       "      <td>2017</td>\n",
       "      <td>HOME</td>\n",
       "      <td>SEP</td>\n",
       "      <td>9</td>\n",
       "      <td>2017</td>\n",
       "      <td>KELLY</td>\n",
       "      <td>L</td>\n",
       "      <td>19-20</td>\n",
       "      <td>24</td>\n",
       "      <td>GEORGIA</td>\n",
       "      <td>KIRBY SMART</td>\n",
       "      <td>15</td>\n",
       "    </tr>\n",
       "    <tr>\n",
       "      <th>1261</th>\n",
       "      <td>2017</td>\n",
       "      <td>HOME</td>\n",
       "      <td>SEP</td>\n",
       "      <td>9</td>\n",
       "      <td>2017</td>\n",
       "      <td>KELLY</td>\n",
       "      <td>L</td>\n",
       "      <td>19-20</td>\n",
       "      <td>24</td>\n",
       "      <td>GEORGIA</td>\n",
       "      <td>KIRBY SMART</td>\n",
       "      <td>15</td>\n",
       "    </tr>\n",
       "  </tbody>\n",
       "</table>\n",
       "<p>1262 rows × 12 columns</p>\n",
       "</div>"
      ],
      "text/plain": [
       "      Season  Site Month  Day  Year  ND Coach W/L/T  Score     ND Rank  \\\n",
       "0       1887  HOME   NOV   23  1887  NO COACH     L    0-8     No Poll   \n",
       "1       1888  HOME   APR   20  1888  NO COACH     L   6-26     No Poll   \n",
       "2       1888  HOME   APR   21  1888  NO COACH     L   4-10     No Poll   \n",
       "3       1888  HOME   DEC    6  1888  NO COACH     W   20-0     No Poll   \n",
       "4       1889  AWAY   NOV   14  1889  NO COACH     W    9-0     No Poll   \n",
       "...      ...   ...   ...  ...   ...       ...   ...    ...         ...   \n",
       "1257    2016  HOME   NOV   19  2016     KELLY     L  31-34  Not Ranked   \n",
       "1258    2016  AWAY   NOV   26  2016     KELLY     L  27-45  Not Ranked   \n",
       "1259    2017  HOME   SEP    2  2017     KELLY     W  49-16  Not Ranked   \n",
       "1260    2017  HOME   SEP    9  2017     KELLY     L  19-20          24   \n",
       "1261    2017  HOME   SEP    9  2017     KELLY     L  19-20          24   \n",
       "\n",
       "           Opponent     Opp. Coach   Opp. Rank  \n",
       "0          MICHIGAN       NO COACH     No Poll  \n",
       "1          MICHIGAN       NO COACH     No Poll  \n",
       "2          MICHIGAN       NO COACH     No Poll  \n",
       "3      HARVARD PREP        UNKNOWN     No Poll  \n",
       "4      NORTHWESTERN       NO COACH     No Poll  \n",
       "...             ...            ...         ...  \n",
       "1257  VIRGINIA TECH  JUSTIN FUENTE  Not Ranked  \n",
       "1258   SOUTHERN CAL    CLAY HELTON          12  \n",
       "1259         TEMPLE  GEOFF COLLINS  Not Ranked  \n",
       "1260        GEORGIA    KIRBY SMART          15  \n",
       "1261        GEORGIA    KIRBY SMART          15  \n",
       "\n",
       "[1262 rows x 12 columns]"
      ]
     },
     "execution_count": 1,
     "metadata": {},
     "output_type": "execute_result"
    }
   ],
   "source": [
    "# Answer\n",
    "import pandas as pd\n",
    "df = pd.read_csv('NDFootballScore.csv')\n",
    "df"
   ]
  },
  {
   "cell_type": "code",
   "execution_count": 2,
   "metadata": {},
   "outputs": [
    {
     "data": {
      "text/html": [
       "<div>\n",
       "<style scoped>\n",
       "    .dataframe tbody tr th:only-of-type {\n",
       "        vertical-align: middle;\n",
       "    }\n",
       "\n",
       "    .dataframe tbody tr th {\n",
       "        vertical-align: top;\n",
       "    }\n",
       "\n",
       "    .dataframe thead th {\n",
       "        text-align: right;\n",
       "    }\n",
       "</style>\n",
       "<table border=\"1\" class=\"dataframe\">\n",
       "  <thead>\n",
       "    <tr style=\"text-align: right;\">\n",
       "      <th></th>\n",
       "      <th>Season</th>\n",
       "      <th>Site</th>\n",
       "      <th>Month</th>\n",
       "      <th>Day</th>\n",
       "      <th>Year</th>\n",
       "      <th>ND Coach</th>\n",
       "      <th>W/L/T</th>\n",
       "      <th>Score</th>\n",
       "      <th>ND Rank</th>\n",
       "      <th>Opponent</th>\n",
       "      <th>Opp. Coach</th>\n",
       "      <th>Opp. Rank</th>\n",
       "    </tr>\n",
       "  </thead>\n",
       "  <tbody>\n",
       "    <tr>\n",
       "      <th>0</th>\n",
       "      <td>1887</td>\n",
       "      <td>HOME</td>\n",
       "      <td>NOV</td>\n",
       "      <td>23</td>\n",
       "      <td>1887</td>\n",
       "      <td>NO COACH</td>\n",
       "      <td>L</td>\n",
       "      <td>0-8</td>\n",
       "      <td>No Poll</td>\n",
       "      <td>MICHIGAN</td>\n",
       "      <td>NO COACH</td>\n",
       "      <td>No Poll</td>\n",
       "    </tr>\n",
       "    <tr>\n",
       "      <th>1</th>\n",
       "      <td>1888</td>\n",
       "      <td>HOME</td>\n",
       "      <td>APR</td>\n",
       "      <td>20</td>\n",
       "      <td>1888</td>\n",
       "      <td>NO COACH</td>\n",
       "      <td>L</td>\n",
       "      <td>6-26</td>\n",
       "      <td>No Poll</td>\n",
       "      <td>MICHIGAN</td>\n",
       "      <td>NO COACH</td>\n",
       "      <td>No Poll</td>\n",
       "    </tr>\n",
       "    <tr>\n",
       "      <th>2</th>\n",
       "      <td>1888</td>\n",
       "      <td>HOME</td>\n",
       "      <td>APR</td>\n",
       "      <td>21</td>\n",
       "      <td>1888</td>\n",
       "      <td>NO COACH</td>\n",
       "      <td>L</td>\n",
       "      <td>4-10</td>\n",
       "      <td>No Poll</td>\n",
       "      <td>MICHIGAN</td>\n",
       "      <td>NO COACH</td>\n",
       "      <td>No Poll</td>\n",
       "    </tr>\n",
       "    <tr>\n",
       "      <th>3</th>\n",
       "      <td>1888</td>\n",
       "      <td>HOME</td>\n",
       "      <td>DEC</td>\n",
       "      <td>6</td>\n",
       "      <td>1888</td>\n",
       "      <td>NO COACH</td>\n",
       "      <td>W</td>\n",
       "      <td>20-0</td>\n",
       "      <td>No Poll</td>\n",
       "      <td>HARVARD PREP</td>\n",
       "      <td>UNKNOWN</td>\n",
       "      <td>No Poll</td>\n",
       "    </tr>\n",
       "    <tr>\n",
       "      <th>4</th>\n",
       "      <td>1889</td>\n",
       "      <td>AWAY</td>\n",
       "      <td>NOV</td>\n",
       "      <td>14</td>\n",
       "      <td>1889</td>\n",
       "      <td>NO COACH</td>\n",
       "      <td>W</td>\n",
       "      <td>9-0</td>\n",
       "      <td>No Poll</td>\n",
       "      <td>NORTHWESTERN</td>\n",
       "      <td>NO COACH</td>\n",
       "      <td>No Poll</td>\n",
       "    </tr>\n",
       "  </tbody>\n",
       "</table>\n",
       "</div>"
      ],
      "text/plain": [
       "   Season  Site Month  Day  Year  ND Coach W/L/T Score  ND Rank      Opponent  \\\n",
       "0    1887  HOME   NOV   23  1887  NO COACH     L   0-8  No Poll      MICHIGAN   \n",
       "1    1888  HOME   APR   20  1888  NO COACH     L  6-26  No Poll      MICHIGAN   \n",
       "2    1888  HOME   APR   21  1888  NO COACH     L  4-10  No Poll      MICHIGAN   \n",
       "3    1888  HOME   DEC    6  1888  NO COACH     W  20-0  No Poll  HARVARD PREP   \n",
       "4    1889  AWAY   NOV   14  1889  NO COACH     W   9-0  No Poll  NORTHWESTERN   \n",
       "\n",
       "  Opp. Coach Opp. Rank  \n",
       "0   NO COACH   No Poll  \n",
       "1   NO COACH   No Poll  \n",
       "2   NO COACH   No Poll  \n",
       "3    UNKNOWN   No Poll  \n",
       "4   NO COACH   No Poll  "
      ]
     },
     "execution_count": 2,
     "metadata": {},
     "output_type": "execute_result"
    }
   ],
   "source": [
    "df.head()"
   ]
  },
  {
   "cell_type": "code",
   "execution_count": 3,
   "metadata": {},
   "outputs": [
    {
     "data": {
      "text/plain": [
       "Season         int64\n",
       "Site          object\n",
       "Month         object\n",
       "Day            int64\n",
       "Year           int64\n",
       "ND Coach      object\n",
       "W/L/T         object\n",
       "Score         object\n",
       "ND Rank       object\n",
       "Opponent      object\n",
       "Opp. Coach    object\n",
       "Opp. Rank     object\n",
       "dtype: object"
      ]
     },
     "execution_count": 3,
     "metadata": {},
     "output_type": "execute_result"
    }
   ],
   "source": [
    "df.dtypes"
   ]
  },
  {
   "cell_type": "code",
   "execution_count": 4,
   "metadata": {},
   "outputs": [
    {
     "data": {
      "text/plain": [
       "(1262, 12)"
      ]
     },
     "execution_count": 4,
     "metadata": {},
     "output_type": "execute_result"
    }
   ],
   "source": [
    "df.shape"
   ]
  },
  {
   "cell_type": "code",
   "execution_count": 5,
   "metadata": {
    "scrolled": false
   },
   "outputs": [
    {
     "data": {
      "text/html": [
       "<div>\n",
       "<style scoped>\n",
       "    .dataframe tbody tr th:only-of-type {\n",
       "        vertical-align: middle;\n",
       "    }\n",
       "\n",
       "    .dataframe tbody tr th {\n",
       "        vertical-align: top;\n",
       "    }\n",
       "\n",
       "    .dataframe thead th {\n",
       "        text-align: right;\n",
       "    }\n",
       "</style>\n",
       "<table border=\"1\" class=\"dataframe\">\n",
       "  <thead>\n",
       "    <tr style=\"text-align: right;\">\n",
       "      <th></th>\n",
       "      <th>Season</th>\n",
       "      <th>W/L/T</th>\n",
       "      <th>Score</th>\n",
       "      <th>Opponent</th>\n",
       "    </tr>\n",
       "  </thead>\n",
       "  <tbody>\n",
       "    <tr>\n",
       "      <th>0</th>\n",
       "      <td>1887</td>\n",
       "      <td>L</td>\n",
       "      <td>0-8</td>\n",
       "      <td>MICHIGAN</td>\n",
       "    </tr>\n",
       "    <tr>\n",
       "      <th>1</th>\n",
       "      <td>1888</td>\n",
       "      <td>L</td>\n",
       "      <td>6-26</td>\n",
       "      <td>MICHIGAN</td>\n",
       "    </tr>\n",
       "    <tr>\n",
       "      <th>2</th>\n",
       "      <td>1888</td>\n",
       "      <td>L</td>\n",
       "      <td>4-10</td>\n",
       "      <td>MICHIGAN</td>\n",
       "    </tr>\n",
       "    <tr>\n",
       "      <th>3</th>\n",
       "      <td>1888</td>\n",
       "      <td>W</td>\n",
       "      <td>20-0</td>\n",
       "      <td>HARVARD PREP</td>\n",
       "    </tr>\n",
       "    <tr>\n",
       "      <th>4</th>\n",
       "      <td>1889</td>\n",
       "      <td>W</td>\n",
       "      <td>9-0</td>\n",
       "      <td>NORTHWESTERN</td>\n",
       "    </tr>\n",
       "    <tr>\n",
       "      <th>...</th>\n",
       "      <td>...</td>\n",
       "      <td>...</td>\n",
       "      <td>...</td>\n",
       "      <td>...</td>\n",
       "    </tr>\n",
       "    <tr>\n",
       "      <th>1257</th>\n",
       "      <td>2016</td>\n",
       "      <td>L</td>\n",
       "      <td>31-34</td>\n",
       "      <td>VIRGINIA TECH</td>\n",
       "    </tr>\n",
       "    <tr>\n",
       "      <th>1258</th>\n",
       "      <td>2016</td>\n",
       "      <td>L</td>\n",
       "      <td>27-45</td>\n",
       "      <td>SOUTHERN CAL</td>\n",
       "    </tr>\n",
       "    <tr>\n",
       "      <th>1259</th>\n",
       "      <td>2017</td>\n",
       "      <td>W</td>\n",
       "      <td>49-16</td>\n",
       "      <td>TEMPLE</td>\n",
       "    </tr>\n",
       "    <tr>\n",
       "      <th>1260</th>\n",
       "      <td>2017</td>\n",
       "      <td>L</td>\n",
       "      <td>19-20</td>\n",
       "      <td>GEORGIA</td>\n",
       "    </tr>\n",
       "    <tr>\n",
       "      <th>1261</th>\n",
       "      <td>2017</td>\n",
       "      <td>L</td>\n",
       "      <td>19-20</td>\n",
       "      <td>GEORGIA</td>\n",
       "    </tr>\n",
       "  </tbody>\n",
       "</table>\n",
       "<p>1262 rows × 4 columns</p>\n",
       "</div>"
      ],
      "text/plain": [
       "      Season W/L/T  Score       Opponent\n",
       "0       1887     L    0-8       MICHIGAN\n",
       "1       1888     L   6-26       MICHIGAN\n",
       "2       1888     L   4-10       MICHIGAN\n",
       "3       1888     W   20-0   HARVARD PREP\n",
       "4       1889     W    9-0   NORTHWESTERN\n",
       "...      ...   ...    ...            ...\n",
       "1257    2016     L  31-34  VIRGINIA TECH\n",
       "1258    2016     L  27-45   SOUTHERN CAL\n",
       "1259    2017     W  49-16         TEMPLE\n",
       "1260    2017     L  19-20        GEORGIA\n",
       "1261    2017     L  19-20        GEORGIA\n",
       "\n",
       "[1262 rows x 4 columns]"
      ]
     },
     "execution_count": 5,
     "metadata": {},
     "output_type": "execute_result"
    }
   ],
   "source": [
    "New_df = df.drop(['Site','Month','Day','Year','ND Coach','ND Rank','Opp. Coach','Opp. Rank'], axis = 1)\n",
    "New_df"
   ]
  },
  {
   "cell_type": "code",
   "execution_count": 6,
   "metadata": {},
   "outputs": [
    {
     "data": {
      "text/html": [
       "<div>\n",
       "<style scoped>\n",
       "    .dataframe tbody tr th:only-of-type {\n",
       "        vertical-align: middle;\n",
       "    }\n",
       "\n",
       "    .dataframe tbody tr th {\n",
       "        vertical-align: top;\n",
       "    }\n",
       "\n",
       "    .dataframe thead th {\n",
       "        text-align: right;\n",
       "    }\n",
       "</style>\n",
       "<table border=\"1\" class=\"dataframe\">\n",
       "  <thead>\n",
       "    <tr style=\"text-align: right;\">\n",
       "      <th></th>\n",
       "      <th>Season</th>\n",
       "      <th>result</th>\n",
       "      <th>Score</th>\n",
       "      <th>Opponent</th>\n",
       "    </tr>\n",
       "  </thead>\n",
       "  <tbody>\n",
       "    <tr>\n",
       "      <th>0</th>\n",
       "      <td>1887</td>\n",
       "      <td>L</td>\n",
       "      <td>0-8</td>\n",
       "      <td>MICHIGAN</td>\n",
       "    </tr>\n",
       "    <tr>\n",
       "      <th>1</th>\n",
       "      <td>1888</td>\n",
       "      <td>L</td>\n",
       "      <td>6-26</td>\n",
       "      <td>MICHIGAN</td>\n",
       "    </tr>\n",
       "    <tr>\n",
       "      <th>2</th>\n",
       "      <td>1888</td>\n",
       "      <td>L</td>\n",
       "      <td>4-10</td>\n",
       "      <td>MICHIGAN</td>\n",
       "    </tr>\n",
       "    <tr>\n",
       "      <th>3</th>\n",
       "      <td>1888</td>\n",
       "      <td>W</td>\n",
       "      <td>20-0</td>\n",
       "      <td>HARVARD PREP</td>\n",
       "    </tr>\n",
       "    <tr>\n",
       "      <th>4</th>\n",
       "      <td>1889</td>\n",
       "      <td>W</td>\n",
       "      <td>9-0</td>\n",
       "      <td>NORTHWESTERN</td>\n",
       "    </tr>\n",
       "    <tr>\n",
       "      <th>...</th>\n",
       "      <td>...</td>\n",
       "      <td>...</td>\n",
       "      <td>...</td>\n",
       "      <td>...</td>\n",
       "    </tr>\n",
       "    <tr>\n",
       "      <th>1257</th>\n",
       "      <td>2016</td>\n",
       "      <td>L</td>\n",
       "      <td>31-34</td>\n",
       "      <td>VIRGINIA TECH</td>\n",
       "    </tr>\n",
       "    <tr>\n",
       "      <th>1258</th>\n",
       "      <td>2016</td>\n",
       "      <td>L</td>\n",
       "      <td>27-45</td>\n",
       "      <td>SOUTHERN CAL</td>\n",
       "    </tr>\n",
       "    <tr>\n",
       "      <th>1259</th>\n",
       "      <td>2017</td>\n",
       "      <td>W</td>\n",
       "      <td>49-16</td>\n",
       "      <td>TEMPLE</td>\n",
       "    </tr>\n",
       "    <tr>\n",
       "      <th>1260</th>\n",
       "      <td>2017</td>\n",
       "      <td>L</td>\n",
       "      <td>19-20</td>\n",
       "      <td>GEORGIA</td>\n",
       "    </tr>\n",
       "    <tr>\n",
       "      <th>1261</th>\n",
       "      <td>2017</td>\n",
       "      <td>L</td>\n",
       "      <td>19-20</td>\n",
       "      <td>GEORGIA</td>\n",
       "    </tr>\n",
       "  </tbody>\n",
       "</table>\n",
       "<p>1262 rows × 4 columns</p>\n",
       "</div>"
      ],
      "text/plain": [
       "      Season result  Score       Opponent\n",
       "0       1887      L    0-8       MICHIGAN\n",
       "1       1888      L   6-26       MICHIGAN\n",
       "2       1888      L   4-10       MICHIGAN\n",
       "3       1888      W   20-0   HARVARD PREP\n",
       "4       1889      W    9-0   NORTHWESTERN\n",
       "...      ...    ...    ...            ...\n",
       "1257    2016      L  31-34  VIRGINIA TECH\n",
       "1258    2016      L  27-45   SOUTHERN CAL\n",
       "1259    2017      W  49-16         TEMPLE\n",
       "1260    2017      L  19-20        GEORGIA\n",
       "1261    2017      L  19-20        GEORGIA\n",
       "\n",
       "[1262 rows x 4 columns]"
      ]
     },
     "execution_count": 6,
     "metadata": {},
     "output_type": "execute_result"
    }
   ],
   "source": [
    "New_df.rename(columns={\"W/L/T\":\"result\"},inplace=True)\n",
    "New_df"
   ]
  },
  {
   "cell_type": "code",
   "execution_count": 7,
   "metadata": {},
   "outputs": [
    {
     "data": {
      "text/html": [
       "<div>\n",
       "<style scoped>\n",
       "    .dataframe tbody tr th:only-of-type {\n",
       "        vertical-align: middle;\n",
       "    }\n",
       "\n",
       "    .dataframe tbody tr th {\n",
       "        vertical-align: top;\n",
       "    }\n",
       "\n",
       "    .dataframe thead th {\n",
       "        text-align: right;\n",
       "    }\n",
       "</style>\n",
       "<table border=\"1\" class=\"dataframe\">\n",
       "  <thead>\n",
       "    <tr style=\"text-align: right;\">\n",
       "      <th></th>\n",
       "      <th>season</th>\n",
       "      <th>result</th>\n",
       "      <th>score</th>\n",
       "      <th>opponent</th>\n",
       "    </tr>\n",
       "  </thead>\n",
       "  <tbody>\n",
       "    <tr>\n",
       "      <th>0</th>\n",
       "      <td>1887</td>\n",
       "      <td>L</td>\n",
       "      <td>0-8</td>\n",
       "      <td>MICHIGAN</td>\n",
       "    </tr>\n",
       "    <tr>\n",
       "      <th>1</th>\n",
       "      <td>1888</td>\n",
       "      <td>L</td>\n",
       "      <td>6-26</td>\n",
       "      <td>MICHIGAN</td>\n",
       "    </tr>\n",
       "    <tr>\n",
       "      <th>2</th>\n",
       "      <td>1888</td>\n",
       "      <td>L</td>\n",
       "      <td>4-10</td>\n",
       "      <td>MICHIGAN</td>\n",
       "    </tr>\n",
       "    <tr>\n",
       "      <th>3</th>\n",
       "      <td>1888</td>\n",
       "      <td>W</td>\n",
       "      <td>20-0</td>\n",
       "      <td>HARVARD PREP</td>\n",
       "    </tr>\n",
       "    <tr>\n",
       "      <th>4</th>\n",
       "      <td>1889</td>\n",
       "      <td>W</td>\n",
       "      <td>9-0</td>\n",
       "      <td>NORTHWESTERN</td>\n",
       "    </tr>\n",
       "    <tr>\n",
       "      <th>...</th>\n",
       "      <td>...</td>\n",
       "      <td>...</td>\n",
       "      <td>...</td>\n",
       "      <td>...</td>\n",
       "    </tr>\n",
       "    <tr>\n",
       "      <th>1257</th>\n",
       "      <td>2016</td>\n",
       "      <td>L</td>\n",
       "      <td>31-34</td>\n",
       "      <td>VIRGINIA TECH</td>\n",
       "    </tr>\n",
       "    <tr>\n",
       "      <th>1258</th>\n",
       "      <td>2016</td>\n",
       "      <td>L</td>\n",
       "      <td>27-45</td>\n",
       "      <td>SOUTHERN CAL</td>\n",
       "    </tr>\n",
       "    <tr>\n",
       "      <th>1259</th>\n",
       "      <td>2017</td>\n",
       "      <td>W</td>\n",
       "      <td>49-16</td>\n",
       "      <td>TEMPLE</td>\n",
       "    </tr>\n",
       "    <tr>\n",
       "      <th>1260</th>\n",
       "      <td>2017</td>\n",
       "      <td>L</td>\n",
       "      <td>19-20</td>\n",
       "      <td>GEORGIA</td>\n",
       "    </tr>\n",
       "    <tr>\n",
       "      <th>1261</th>\n",
       "      <td>2017</td>\n",
       "      <td>L</td>\n",
       "      <td>19-20</td>\n",
       "      <td>GEORGIA</td>\n",
       "    </tr>\n",
       "  </tbody>\n",
       "</table>\n",
       "<p>1262 rows × 4 columns</p>\n",
       "</div>"
      ],
      "text/plain": [
       "      season result  score       opponent\n",
       "0       1887      L    0-8       MICHIGAN\n",
       "1       1888      L   6-26       MICHIGAN\n",
       "2       1888      L   4-10       MICHIGAN\n",
       "3       1888      W   20-0   HARVARD PREP\n",
       "4       1889      W    9-0   NORTHWESTERN\n",
       "...      ...    ...    ...            ...\n",
       "1257    2016      L  31-34  VIRGINIA TECH\n",
       "1258    2016      L  27-45   SOUTHERN CAL\n",
       "1259    2017      W  49-16         TEMPLE\n",
       "1260    2017      L  19-20        GEORGIA\n",
       "1261    2017      L  19-20        GEORGIA\n",
       "\n",
       "[1262 rows x 4 columns]"
      ]
     },
     "execution_count": 7,
     "metadata": {},
     "output_type": "execute_result"
    }
   ],
   "source": [
    "New_df.columns = New_df.columns.str.lower()\n",
    "New_df"
   ]
  },
  {
   "cell_type": "markdown",
   "metadata": {},
   "source": [
    "### 2. Use Boolean Indexing (Boolean Selection) to calculate ND's all-time winning percentage.  Store the result in the variable **all_time_win_pct**. \n",
    "* Using f strings, print: *\"Notre Dame Football's all time winning percentage is XX.X%.\"*\n",
    "\n",
    "\n",
    "\n",
    "$$\\text{all-time winning pct} = \\frac{\\text{ # of wins}}{\\text{# games played} - \\text{# of ties}}$$"
   ]
  },
  {
   "cell_type": "code",
   "execution_count": 8,
   "metadata": {},
   "outputs": [
    {
     "name": "stdout",
     "output_type": "stream",
     "text": [
      "Notre Dame Football's all time winning percentage is  73.5\n"
     ]
    }
   ],
   "source": [
    "# Answer\n",
    "cond1 = New_df['result'] == 'W'\n",
    "cond2 = New_df['result'] == 'T'\n",
    "print(f\"Notre Dame Football's all time winning percentage is \",round(len(df[cond1])/(len(New_df)-len(df[cond2])),3)*100)"
   ]
  },
  {
   "cell_type": "markdown",
   "metadata": {},
   "source": [
    "### 3. What is the Average Margin of Victory\n",
    "The formula for Avg Margin of Victory is as follows.\n",
    "\n",
    "avg_mov = (sum(nd_score) - sum(opp_score)) / num_wins\n",
    "\n",
    "Answer the following questions:\n",
    "\n",
    "1. For all of the games that Notre Dame won, what was the avg margin of victory?\n",
    "2. For games played in the 1999 season, what was the avg margin of victory?\n",
    "\n",
    "Note: This requires you to create two new columns `nd_score` and `opp_score`"
   ]
  },
  {
   "cell_type": "code",
   "execution_count": 22,
   "metadata": {},
   "outputs": [],
   "source": [
    "def avg_mov(score1,score2,total):\n",
    "    return round((score1-score2)/total,1)"
   ]
  },
  {
   "cell_type": "code",
   "execution_count": 23,
   "metadata": {},
   "outputs": [],
   "source": [
    "New_df[['nd_score','opp_score']] = New_df.score.str.split(\"-\",expand=True)"
   ]
  },
  {
   "cell_type": "code",
   "execution_count": 24,
   "metadata": {},
   "outputs": [],
   "source": [
    "New_df['nd_score'] = pd.to_numeric(New_df['nd_score'])\n",
    "New_df['opp_score'] = pd.to_numeric(New_df['opp_score'])"
   ]
  },
  {
   "cell_type": "code",
   "execution_count": 25,
   "metadata": {},
   "outputs": [
    {
     "data": {
      "text/plain": [
       "season        int64\n",
       "result       object\n",
       "score        object\n",
       "opponent     object\n",
       "nd_score      int64\n",
       "opp_score     int64\n",
       "dtype: object"
      ]
     },
     "execution_count": 25,
     "metadata": {},
     "output_type": "execute_result"
    }
   ],
   "source": [
    "New_df.dtypes"
   ]
  },
  {
   "cell_type": "code",
   "execution_count": 46,
   "metadata": {},
   "outputs": [
    {
     "name": "stdout",
     "output_type": "stream",
     "text": [
      "For all of the games that Notre Dame won, avg margin of victory is 22.5\n"
     ]
    }
   ],
   "source": [
    "New_df2=New_df[cond1]\n",
    "answer = avg_mov(New_df2['nd_score'].sum(),New_df2['opp_score'].sum(),len(New_df2))\n",
    "print(\"For all of the games that Notre Dame won, avg margin of victory is\",answer)"
   ]
  },
  {
   "cell_type": "code",
   "execution_count": 41,
   "metadata": {},
   "outputs": [],
   "source": [
    "cond3 = New_df['season'] == 1999\n",
    "New_df3=New_df[cond3]"
   ]
  },
  {
   "cell_type": "code",
   "execution_count": 47,
   "metadata": {},
   "outputs": [
    {
     "name": "stdout",
     "output_type": "stream",
     "text": [
      "For games played in the 1999 season, avg margin of victory is 3.4\n"
     ]
    }
   ],
   "source": [
    "answer = avg_mov(New_df3['nd_score'].sum(),New_df3['opp_score'].sum(),len(New_df3[New_df3['result']==\"W\"]))\n",
    "print(\"For games played in the 1999 season, avg margin of victory is\",answer)"
   ]
  },
  {
   "cell_type": "markdown",
   "metadata": {},
   "source": [
    "### 4. Create Plots for the following:\n",
    "\n",
    "1. Histogram of the nd_score using 100 bins\n",
    "2. Boxplot for the nd_score and opp_score on the same chart\n",
    "3. Plot the top 10 teams by the number of games played"
   ]
  },
  {
   "cell_type": "code",
   "execution_count": 48,
   "metadata": {},
   "outputs": [
    {
     "data": {
      "image/png": "[encoded data removed]",
      "text/plain": [
       "<Figure size 432x288 with 1 Axes>"
      ]
     },
     "metadata": {
      "needs_background": "light"
     },
     "output_type": "display_data"
    }
   ],
   "source": [
    "import matplotlib.pyplot as plt\n",
    "New_df['nd_score'].hist(bins=100)\n",
    "plt.show()"
   ]
  },
  {
   "cell_type": "code",
   "execution_count": 50,
   "metadata": {},
   "outputs": [
    {
     "data": {
      "image/png": "[encoded data removed]",
      "text/plain": [
       "<Figure size 432x288 with 1 Axes>"
      ]
     },
     "metadata": {
      "needs_background": "light"
     },
     "output_type": "display_data"
    }
   ],
   "source": [
    "New_df.boxplot(column=['nd_score','opp_score'])\n",
    "plt.show()"
   ]
  },
  {
   "cell_type": "code",
   "execution_count": 58,
   "metadata": {},
   "outputs": [
    {
     "data": {
      "image/png": "[encoded data removed]",
      "text/plain": [
       "<Figure size 432x288 with 1 Axes>"
      ]
     },
     "metadata": {
      "needs_background": "light"
     },
     "output_type": "display_data"
    }
   ],
   "source": [
    "New_df.groupby('opponent')['opponent'].count().sort_values(ascending=False).head(10).plot(kind=\"bar\")\n",
    "plt.show()"
   ]
  },
  {
   "cell_type": "code",
   "execution_count": null,
   "metadata": {},
   "outputs": [],
   "source": []
  }
 ],
 "metadata": {
  "kernelspec": {
   "display_name": "Python 3",
   "language": "python",
   "name": "python3"
  },
  "language_info": {
   "codemirror_mode": {
    "name": "ipython",
    "version": 3
   },
   "file_extension": ".py",
   "mimetype": "text/x-python",
   "name": "python",
   "nbconvert_exporter": "python",
   "pygments_lexer": "ipython3",
   "version": "3.8.5"
  }
 },
 "nbformat": 4,
 "nbformat_minor": 2
}
