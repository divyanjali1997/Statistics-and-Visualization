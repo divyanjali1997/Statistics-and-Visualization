{
 "cells": [
  {
   "cell_type": "markdown",
   "metadata": {},
   "source": [
    "# Assignment 3 (60 points - Due on Monday October 11th by 7:00 pm ET)\n",
    "\n",
    "**You are free to use any IDE you like.**\n",
    "The output of this assignment for submission should be in PDF format **AND** .py or .ipynb. The name of the file should be as follows: Lastname_Firstname_Assignment3.pdf (example: Thomas_Sunela_Assignment3.pdf) ****AND**** Lastname_Firstname_Assignment3.ipynb (example: Thomas_Sunela_Assignment3.ipynb. In short, you are submitting the python notebook as well as the pdf of that notebook.\n",
    "\n",
    "Incorrect file name will cost you points! Do NOT submit HTML code file.\n",
    "Instructions for converting a Jupyter Python notebook to PDF: Go to the menu and choose, File --> Download As --> html\n",
    "\n",
    "Open that html file and print it to PDF.\n",
    "\n",
    "**Things to note:**\n",
    "* Output should be displayed for each question in a sentence format"
   ]
  },
  {
   "cell_type": "markdown",
   "metadata": {},
   "source": [
    "## Use the tips.csv file to answer the following questions. Each question answer should be displayed. The meaning of the variables are described below.\n",
    "* total_bill = Total bill (cost of meal), including tax, in US dollars\n",
    "* tip = Tip (gratuity) in US dollars\n",
    "* sex = 0 (male) and 1 (female)\n",
    "* smoker = 0 (NO), 1 (YES)\n",
    "* day = Day of the Week (4 = Thurs, 5= Fri, 6 = Sat, 7 = Sun)\n",
    "* time = Dinner, Lunch\n",
    "* size = size of the party\n",
    "\n",
    "<h3> You may need to recode some variables like sex, day of the week, etc. so that the results are meaningful.  Provide the results in the form of a sentence instead of just a value."
   ]
  },
  {
   "cell_type": "markdown",
   "metadata": {},
   "source": [
    "<u>Note</u>: Creating lists to store day, time and smoke values"
   ]
  },
  {
   "cell_type": "code",
   "execution_count": 1,
   "metadata": {},
   "outputs": [],
   "source": [
    "import pandas as pd\n",
    "import numpy as np\n",
    "df = pd.read_csv('tips.csv')\n",
    "list1=['male','female']\n",
    "list2=['monday','tuesday','wednesday','thursday','friday','saturday','sunday']\n",
    "list3=['non-smoker','smoker']"
   ]
  },
  {
   "cell_type": "markdown",
   "metadata": {},
   "source": [
    "<h3> 1. What is total number of orders where the `total_bill` is greater than $40 and the party size was 4 or less?"
   ]
  },
  {
   "cell_type": "code",
   "execution_count": 2,
   "metadata": {},
   "outputs": [
    {
     "name": "stdout",
     "output_type": "stream",
     "text": [
      "There were 8 orders with total bill greater than $40 where party size was 4 or less\n"
     ]
    }
   ],
   "source": [
    "# Answer\n",
    "filt1 = df['total_bill'] > 40\n",
    "filt2 = df['size'] <=4\n",
    "count = len(df[filt1 & filt2])\n",
    "print(\"There were\",count,\"orders with total bill greater than $40 where party size was 4 or less\")"
   ]
  },
  {
   "cell_type": "markdown",
   "metadata": {},
   "source": [
    "<h3> 2. Who pays the bill more often: men or women?"
   ]
  },
  {
   "cell_type": "code",
   "execution_count": 3,
   "metadata": {},
   "outputs": [
    {
     "name": "stdout",
     "output_type": "stream",
     "text": [
      "Highest number of bills are paid by Women\n"
     ]
    }
   ],
   "source": [
    "# Answer\n",
    "count1 = len(df[df['sex'] == 0])\n",
    "count2 = len(df[df['sex'] == 1])\n",
    "if(count1<count2):\n",
    "    print(\"Highest number of bills are paid by Women\")\n",
    "elif(count1>count2):\n",
    "    print(\"Highest number of bills are paid by Men\")\n",
    "else:\n",
    "    print(\"Both Men and Women pay bills same number of times\")"
   ]
  },
  {
   "cell_type": "markdown",
   "metadata": {},
   "source": [
    "<h3> 3. What day-time combination has the highest average bill? What has the lowest average bill?"
   ]
  },
  {
   "cell_type": "code",
   "execution_count": 4,
   "metadata": {
    "scrolled": true
   },
   "outputs": [
    {
     "name": "stdout",
     "output_type": "stream",
     "text": [
      "Lowest average bill is at Lunch on friday\n",
      "Highest average bill is at Dinner on sunday\n"
     ]
    }
   ],
   "source": [
    "# Answer\n",
    "df1 = df.groupby(['day','time'])['total_bill'].mean().sort_values().reset_index()\n",
    "ld = list2[df1.iloc[0]['day']-1]\n",
    "lt = df1.iloc[0]['time']\n",
    "df2 = df.groupby(['day','time'])['total_bill'].mean().sort_values(ascending = False).reset_index()\n",
    "hd = list2[df2.iloc[0]['day']-1]\n",
    "ht = df2.iloc[0]['time']\n",
    "print(\"Lowest average bill is at\",lt,\"on\",ld)\n",
    "print(\"Highest average bill is at\",ht,\"on\",hd)"
   ]
  },
  {
   "cell_type": "markdown",
   "metadata": {},
   "source": [
    "<h3> 4. On which day of the week does the waiter serve the largest parties on average?"
   ]
  },
  {
   "cell_type": "code",
   "execution_count": 8,
   "metadata": {
    "scrolled": true
   },
   "outputs": [
    {
     "name": "stdout",
     "output_type": "stream",
     "text": [
      "Waiter serves the largest parties on average on thursday\n"
     ]
    }
   ],
   "source": [
    "# Answer\n",
    "value = df['size'].max()\n",
    "df2 = df[df['size'] == value]\n",
    "answer = df2.groupby(['day'])['total_bill'].count().sort_values(ascending = False).reset_index()\n",
    "answer=answer.iloc[0]['day']\n",
    "print(\"Waiter serves the largest parties on average on\", list2[answer-1])"
   ]
  },
  {
   "cell_type": "markdown",
   "metadata": {},
   "source": [
    "<h3> 5. Calculate the average total bill by day, time, and party size. Display the results in a pivot table. "
   ]
  },
  {
   "cell_type": "code",
   "execution_count": 6,
   "metadata": {},
   "outputs": [
    {
     "data": {
      "text/html": [
       "<div>\n",
       "<style scoped>\n",
       "    .dataframe tbody tr th:only-of-type {\n",
       "        vertical-align: middle;\n",
       "    }\n",
       "\n",
       "    .dataframe tbody tr th {\n",
       "        vertical-align: top;\n",
       "    }\n",
       "\n",
       "    .dataframe thead th {\n",
       "        text-align: right;\n",
       "    }\n",
       "</style>\n",
       "<table border=\"1\" class=\"dataframe\">\n",
       "  <thead>\n",
       "    <tr style=\"text-align: right;\">\n",
       "      <th></th>\n",
       "      <th></th>\n",
       "      <th></th>\n",
       "      <th>total_bill</th>\n",
       "    </tr>\n",
       "    <tr>\n",
       "      <th>day</th>\n",
       "      <th>time</th>\n",
       "      <th>size</th>\n",
       "      <th></th>\n",
       "    </tr>\n",
       "  </thead>\n",
       "  <tbody>\n",
       "    <tr>\n",
       "      <th rowspan=\"7\" valign=\"top\">4</th>\n",
       "      <th>Dinner</th>\n",
       "      <th>2</th>\n",
       "      <td>18.780000</td>\n",
       "    </tr>\n",
       "    <tr>\n",
       "      <th rowspan=\"6\" valign=\"top\">Lunch</th>\n",
       "      <th>1</th>\n",
       "      <td>10.070000</td>\n",
       "    </tr>\n",
       "    <tr>\n",
       "      <th>2</th>\n",
       "      <td>15.079787</td>\n",
       "    </tr>\n",
       "    <tr>\n",
       "      <th>3</th>\n",
       "      <td>19.160000</td>\n",
       "    </tr>\n",
       "    <tr>\n",
       "      <th>4</th>\n",
       "      <td>29.950000</td>\n",
       "    </tr>\n",
       "    <tr>\n",
       "      <th>5</th>\n",
       "      <td>41.190000</td>\n",
       "    </tr>\n",
       "    <tr>\n",
       "      <th>6</th>\n",
       "      <td>30.383333</td>\n",
       "    </tr>\n",
       "    <tr>\n",
       "      <th rowspan=\"5\" valign=\"top\">5</th>\n",
       "      <th rowspan=\"2\" valign=\"top\">Dinner</th>\n",
       "      <th>2</th>\n",
       "      <td>17.799091</td>\n",
       "    </tr>\n",
       "    <tr>\n",
       "      <th>4</th>\n",
       "      <td>40.170000</td>\n",
       "    </tr>\n",
       "    <tr>\n",
       "      <th rowspan=\"3\" valign=\"top\">Lunch</th>\n",
       "      <th>1</th>\n",
       "      <td>8.580000</td>\n",
       "    </tr>\n",
       "    <tr>\n",
       "      <th>2</th>\n",
       "      <td>13.072000</td>\n",
       "    </tr>\n",
       "    <tr>\n",
       "      <th>3</th>\n",
       "      <td>15.980000</td>\n",
       "    </tr>\n",
       "    <tr>\n",
       "      <th rowspan=\"5\" valign=\"top\">6</th>\n",
       "      <th rowspan=\"5\" valign=\"top\">Dinner</th>\n",
       "      <th>1</th>\n",
       "      <td>5.160000</td>\n",
       "    </tr>\n",
       "    <tr>\n",
       "      <th>2</th>\n",
       "      <td>16.837170</td>\n",
       "    </tr>\n",
       "    <tr>\n",
       "      <th>3</th>\n",
       "      <td>25.509444</td>\n",
       "    </tr>\n",
       "    <tr>\n",
       "      <th>4</th>\n",
       "      <td>29.876154</td>\n",
       "    </tr>\n",
       "    <tr>\n",
       "      <th>5</th>\n",
       "      <td>28.150000</td>\n",
       "    </tr>\n",
       "    <tr>\n",
       "      <th rowspan=\"5\" valign=\"top\">7</th>\n",
       "      <th rowspan=\"5\" valign=\"top\">Dinner</th>\n",
       "      <th>2</th>\n",
       "      <td>17.560000</td>\n",
       "    </tr>\n",
       "    <tr>\n",
       "      <th>3</th>\n",
       "      <td>22.184000</td>\n",
       "    </tr>\n",
       "    <tr>\n",
       "      <th>4</th>\n",
       "      <td>26.688333</td>\n",
       "    </tr>\n",
       "    <tr>\n",
       "      <th>5</th>\n",
       "      <td>27.000000</td>\n",
       "    </tr>\n",
       "    <tr>\n",
       "      <th>6</th>\n",
       "      <td>48.170000</td>\n",
       "    </tr>\n",
       "  </tbody>\n",
       "</table>\n",
       "</div>"
      ],
      "text/plain": [
       "                 total_bill\n",
       "day time   size            \n",
       "4   Dinner 2      18.780000\n",
       "    Lunch  1      10.070000\n",
       "           2      15.079787\n",
       "           3      19.160000\n",
       "           4      29.950000\n",
       "           5      41.190000\n",
       "           6      30.383333\n",
       "5   Dinner 2      17.799091\n",
       "           4      40.170000\n",
       "    Lunch  1       8.580000\n",
       "           2      13.072000\n",
       "           3      15.980000\n",
       "6   Dinner 1       5.160000\n",
       "           2      16.837170\n",
       "           3      25.509444\n",
       "           4      29.876154\n",
       "           5      28.150000\n",
       "7   Dinner 2      17.560000\n",
       "           3      22.184000\n",
       "           4      26.688333\n",
       "           5      27.000000\n",
       "           6      48.170000"
      ]
     },
     "execution_count": 6,
     "metadata": {},
     "output_type": "execute_result"
    }
   ],
   "source": [
    "# Answer\n",
    "df.groupby(['day','time','size']).agg({'total_bill' : 'mean'})"
   ]
  },
  {
   "cell_type": "markdown",
   "metadata": {},
   "source": [
    "<h3> 6. What is the lowest tip_rate? Was it paid by a male or female? Was it a smoker or non-smoker?"
   ]
  },
  {
   "cell_type": "code",
   "execution_count": 7,
   "metadata": {},
   "outputs": [
    {
     "name": "stdout",
     "output_type": "stream",
     "text": [
      "A female smoker paid a lowest tip rate of $ 0.04\n"
     ]
    }
   ],
   "source": [
    "# Answer\n",
    "df['tip_rate']=df['tip']/df['total_bill']\n",
    "df2 = df.sort_values('tip_rate').iloc[0]\n",
    "\n",
    "ltp = df2['tip_rate'].round(2)\n",
    "g = list1[df2['sex']]\n",
    "s = list3[df2['smoker']]\n",
    "\n",
    "print(\"A\",g,s,\"paid a lowest tip rate of $\",ltp)"
   ]
  },
  {
   "cell_type": "code",
   "execution_count": null,
   "metadata": {},
   "outputs": [],
   "source": []
  }
 ],
 "metadata": {
  "kernelspec": {
   "display_name": "Python 3 (ipykernel)",
   "language": "python",
   "name": "python3"
  },
  "language_info": {
   "codemirror_mode": {
    "name": "ipython",
    "version": 3
   },
   "file_extension": ".py",
   "mimetype": "text/x-python",
   "name": "python",
   "nbconvert_exporter": "python",
   "pygments_lexer": "ipython3",
   "version": "3.9.6"
  }
 },
 "nbformat": 4,
 "nbformat_minor": 2
}
